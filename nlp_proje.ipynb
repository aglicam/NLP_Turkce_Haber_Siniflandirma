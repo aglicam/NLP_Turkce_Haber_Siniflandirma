{
 "cells": [
  {
   "cell_type": "code",
   "execution_count": null,
   "id": "c94161da",
   "metadata": {},
   "outputs": [],
   "source": [
    "!pip install xlrd\n",
    "import numpy as np\n",
    "import pandas as pd\n",
    "import tensorflow as tf\n",
    "from tensorflow.keras.preprocessing.text import Tokenizer\n",
    "from tensorflow.keras.preprocessing.sequence import pad_sequences\n",
    "from tensorflow.keras.models import Sequential\n",
    "from tensorflow.keras.layers import Embedding, Bidirectional, LSTM, Dense, Dropout\n",
    "from sklearn.preprocessing import LabelEncoder\n",
    "from sklearn.model_selection import train_test_split\n"
   ]
  },
  {
   "cell_type": "code",
   "execution_count": null,
   "id": "7a78d6dd",
   "metadata": {},
   "outputs": [],
   "source": [
    "df=pd.read_excel(\"news.xls\")\n",
    "df.head()"
   ]
  },
  {
   "cell_type": "code",
   "execution_count": null,
   "id": "766315c4",
   "metadata": {},
   "outputs": [],
   "source": [
    "label_encoder = LabelEncoder()\n",
    "df['label'] = label_encoder.fit_transform(df['category'])"
   ]
  },
  {
   "cell_type": "code",
   "execution_count": null,
   "id": "df3852b0",
   "metadata": {},
   "outputs": [],
   "source": [
    "tokenizer = Tokenizer(num_words=1000, oov_token=\"<OOV>\")\n",
    "tokenizer.fit_on_texts(df['content'])\n",
    "sequences = tokenizer.texts_to_sequences(df['content'])\n"
   ]
  },
  {
   "cell_type": "code",
   "execution_count": null,
   "id": "b16f23a0",
   "metadata": {},
   "outputs": [],
   "source": [
    "max_len = 15\n",
    "padded = pad_sequences(sequences, maxlen=max_len, padding='post')\n"
   ]
  },
  {
   "cell_type": "code",
   "execution_count": null,
   "id": "14612db9",
   "metadata": {},
   "outputs": [],
   "source": [
    "X_train, X_test, y_train, y_test = train_test_split(padded, df['label'].values, test_size=0.25, random_state=42)\n"
   ]
  },
  {
   "cell_type": "code",
   "execution_count": null,
   "id": "04a9be33",
   "metadata": {},
   "outputs": [],
   "source": [
    "model = Sequential([\n",
    "    Embedding(input_dim=1000, output_dim=64, input_length=max_len),\n",
    "    Bidirectional(LSTM(64, return_sequences=False, dropout=0.2, recurrent_dropout=0.2)),\n",
    "    Dense(32, activation='relu'),\n",
    "    Dropout(0.2),\n",
    "    Dense(len(label_encoder.classes_), activation='softmax')\n",
    "])\n",
    "\n",
    "model.compile(loss='sparse_categorical_crossentropy',\n",
    "              optimizer='adam',\n",
    "              metrics=['accuracy'])\n",
    "\n",
    "model.summary()"
   ]
  },
  {
   "cell_type": "code",
   "execution_count": null,
   "id": "fa9c90aa",
   "metadata": {},
   "outputs": [],
   "source": [
    "history = model.fit(X_train, y_train,\n",
    "                    epochs=1,\n",
    "                    batch_size=5,\n",
    "                    validation_data=(X_test, y_test))\n",
    "\n",
    "model.save(\"model/bilstm_model.h5\")\n",
    "\n",
    "import pickle\n",
    "with open(\"tokenizer/tokenizer.pkl\", \"wb\") as f:\n",
    "    pickle.dump(tokenizer, f)\n",
    "\n",
    "with open(\"label_encoder/label_encoder.pkl\", \"wb\") as f:\n",
    "    pickle.dump(label_encoder, f)"
   ]
  },
  {
   "cell_type": "code",
   "execution_count": null,
   "id": "a263e3be",
   "metadata": {},
   "outputs": [],
   "source": [
    "loss, accuracy = model.evaluate(X_test, y_test)\n",
    "print(f\"Test doğruluğu: {accuracy:.2f}\")\n"
   ]
  },
  {
   "cell_type": "code",
   "execution_count": null,
   "id": "a63fcef5",
   "metadata": {},
   "outputs": [],
   "source": [
    "import sys\n",
    "import pickle\n",
    "import numpy as np\n",
    "import tensorflow as tf\n",
    "from PyQt5.QtWidgets import (\n",
    "    QApplication, QWidget, QVBoxLayout, QLabel,\n",
    "    QLineEdit, QPushButton, QMessageBox\n",
    ")\n",
    "from tensorflow.keras.preprocessing.sequence import pad_sequences\n",
    "\n",
    "# Model ve yardımcı objeleri yükle\n",
    "model = tf.keras.models.load_model(\"model/bilstm_model.h5\")\n",
    "\n",
    "with open(\"tokenizer/tokenizer.pkl\", \"rb\") as f:\n",
    "    tokenizer = pickle.load(f)\n",
    "\n",
    "with open(\"label_encoder/label_encoder.pkl\", \"rb\") as f:\n",
    "    label_encoder = pickle.load(f)\n",
    "\n",
    "max_len = 15  # Eğitimde kullanılan sabit değer\n",
    "\n",
    "class HaberSiniflandirici(QWidget):\n",
    "    def __init__(self):\n",
    "        super().__init__()\n",
    "        self.setWindowTitle(\"Türkçe Haber Sınıflandırma\")\n",
    "        self.setGeometry(100, 100, 400, 200)\n",
    "        self.init_ui()\n",
    "\n",
    "    def init_ui(self):\n",
    "        self.layout = QVBoxLayout()\n",
    "\n",
    "        self.label = QLabel(\"Bir haber cümlesi girin:\")\n",
    "        self.layout.addWidget(self.label)\n",
    "\n",
    "        self.input_field = QLineEdit()\n",
    "        self.layout.addWidget(self.input_field)\n",
    "\n",
    "        self.button = QPushButton(\"Tahmin Et\")\n",
    "        self.button.clicked.connect(self.tahmin_et)\n",
    "        self.layout.addWidget(self.button)\n",
    "\n",
    "        self.result_label = QLabel(\"\")\n",
    "        self.layout.addWidget(self.result_label)\n",
    "\n",
    "        self.setLayout(self.layout)\n",
    "\n",
    "    def tahmin_et(self):\n",
    "        metin = self.input_field.text().strip()\n",
    "        if not metin:\n",
    "            QMessageBox.warning(self, \"Uyarı\", \"Lütfen bir cümle girin.\")\n",
    "            return\n",
    "\n",
    "        seq = tokenizer.texts_to_sequences([metin])\n",
    "        padded_seq = pad_sequences(seq, maxlen=max_len, padding='post')\n",
    "        prediction = model.predict(padded_seq)\n",
    "        kategori = label_encoder.inverse_transform([np.argmax(prediction)])\n",
    "\n",
    "        self.result_label.setText(f\"Tahmin edilen kategori: {kategori[0]}\")\n",
    "\n",
    "# Uygulama başlat\n",
    "if __name__ == \"__main__\":\n",
    "    app = QApplication(sys.argv)\n",
    "    pencere = HaberSiniflandirici()\n",
    "    pencere.show()\n",
    "    sys.exit(app.exec_())"
   ]
  }
 ],
 "metadata": {
  "kernelspec": {
   "display_name": "NLP",
   "language": "python",
   "name": "python3"
  },
  "language_info": {
   "codemirror_mode": {
    "name": "ipython",
    "version": 3
   },
   "file_extension": ".py",
   "mimetype": "text/x-python",
   "name": "python",
   "nbconvert_exporter": "python",
   "pygments_lexer": "ipython3",
   "version": "3.11.11"
  }
 },
 "nbformat": 4,
 "nbformat_minor": 5
}
